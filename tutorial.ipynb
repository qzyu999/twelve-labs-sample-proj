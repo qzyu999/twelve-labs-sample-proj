{
 "cells": [
  {
   "cell_type": "code",
   "execution_count": 1,
   "metadata": {},
   "outputs": [],
   "source": [
    "import os\n",
    "from glob import glob\n",
    "from twelvelabs import TwelveLabs\n",
    "from twelvelabs.models.task import Task\n",
    "\n",
    "# The path to the directory containing the videos you wish to upload.\n",
    "# VIDEO_PATH = \"./videos/*.mp4\" # Example: \"/videos/*.mp4\n",
    "VIDEO_PATH =r'/Users/jaredyu/Desktop/projects/twelve_labs/technical_assignment/twelve-labs-sample-proj/static/videos/AWS AppFabric introduction.mp4'\n",
    "API_KEY = os.environ['API_KEY']\n",
    "INDEX_NAME = \"test_index-123213123123\""
   ]
  },
  {
   "cell_type": "code",
   "execution_count": 2,
   "metadata": {},
   "outputs": [
    {
     "name": "stdout",
     "output_type": "stream",
     "text": [
      "Created index: id=6670f2c72f5f583ac97c8cf7 name=test_index-123213123123 engines=root=[Engine(name='pegasus1', options=['visual', 'conversation'], addons=None)]\n"
     ]
    }
   ],
   "source": [
    "client = TwelveLabs(api_key=API_KEY)\n",
    "\n",
    "index = client.index.create(\n",
    "    name=INDEX_NAME,\n",
    "    engines=[\n",
    "        {\n",
    "            \"name\": \"pegasus1\",\n",
    "            \"options\": [\"visual\", \"conversation\"],\n",
    "        }\n",
    "    ]\n",
    ")\n",
    "print(f\"Created index: id={index.id} name={index.name} engines={index.engines}\")"
   ]
  },
  {
   "cell_type": "code",
   "execution_count": 3,
   "metadata": {},
   "outputs": [
    {
     "name": "stdout",
     "output_type": "stream",
     "text": [
      "Uploading /Users/jaredyu/Desktop/projects/twelve_labs/technical_assignment/twelve-labs-sample-proj/static/videos/AWS AppFabric introduction.mp4\n",
      "Created task: id=6670f2c92f5f583ac97c8cf8\n",
      "  Status=pending\n",
      "  Status=indexing\n",
      "  Status=ready\n",
      "Uploaded /Users/jaredyu/Desktop/projects/twelve_labs/technical_assignment/twelve-labs-sample-proj/static/videos/AWS AppFabric introduction.mp4. The unique identifer of your video is 6670f2c9d22b3a3c97bf2a74.\n"
     ]
    }
   ],
   "source": [
    "video_files = glob(VIDEO_PATH)\n",
    "for video_file in video_files:\n",
    "  print(f\"Uploading {video_file}\")\n",
    "  task = client.task.create(index_id=index.id, file=video_file, language=\"en\")\n",
    "  print(f\"Created task: id={task.id}\")\n",
    "\n",
    "  # (Optional) Monitor the video indexing process\n",
    "  # Utility function to print the status of a video indexing task\n",
    "  def on_task_update(task: Task):\n",
    "          print(f\"  Status={task.status}\")\n",
    "  task.wait_for_done(sleep_interval=50, callback=on_task_update)\n",
    "  if task.status != \"ready\":\n",
    "      raise RuntimeError(f\"Indexing failed with status {task.status}\")\n",
    "  print(f\"Uploaded {video_file}. The unique identifer of your video is {task.video_id}.\")"
   ]
  },
  {
   "cell_type": "code",
   "execution_count": 4,
   "metadata": {},
   "outputs": [
    {
     "name": "stdout",
     "output_type": "stream",
     "text": [
      "Generating text for 6670f2c9d22b3a3c97bf2a74\n",
      "Title: AWS App Fabric: Seamlessly Connecting and Streamlining SaaS Applications for Enhanced Productivity and Security\n",
      "Topics=[' AWS App Fabric - Connecting and Integrating SaaS Applications for Enhanced Productivity and Security.']\n",
      "Hashtags=['AWS', 'cloud computing', 'SaaS', 'AppFabric', 'productivity', 'data management', 'generative AI']\n",
      "Summary: The video serves as an informative and promotional piece for AWS (Amazon Web Services), focusing on the introduction of AWS App Fabric, a new solution designed to streamline and enhance the productivity and security of SaaS (Software as a Service) applications within organizations. It begins by highlighting the challenges faced by today's businesses, which typically utilize over 100 SaaS applications to boost employee productivity and satisfaction. Despite their benefits, these applications often operate in isolation, leading to data silos, security vulnerabilities, and inefficiencies as employees navigate between different platforms to complete tasks.\n",
      "To address these issues, the video introduces AWS App Fabric as a fully managed service that facilitates the quick and seamless connection of SaaS applications across an organization without the need for extensive development efforts. This solution is portrayed as a game-changer for IT and security teams, who can now easily manage and secure applications using a standardized schema. Furthermore, AWS App Fabric significantly reduces the complexity and maintenance costs associated with creating and managing point-to-point SaaS application integrations.\n",
      "A key feature of AWS App Fabric is its ability to utilize generative AI, enabling employees to accomplish everyday tasks more efficiently and fostering better productivity and collaboration. By aggregating and normalizing data into a common repository, App Fabric simplifies the setting of common policies, alerts, and management of user access across various applications. This consolidation not only improves an organization's security posture by offering better visibility across application data but also makes it easier to leverage generative AI for content creation and performing tasks spanning multiple applications.\n",
      "The video effectively communicates the benefits of AWS App Fabric through digital illustrations and icons that represent the connectivity, security, and efficiency it brings to SaaS application management. It concludes by encouraging viewers to connect their SaaS applications with AWS App Fabric to enhance productivity and security within their organizations, highlighting the solution as an official and comprehensive offering from AWS. The inclusion of the AWS logo and a disclaimer about its trademark status underscores the video's official capacity in representing AWS branding and services.\n",
      "Chapters:\n",
      "  chapter_number=0 chapter_title=The Challenge of SaaS Application Integration chapter_summary=The video opens by highlighting the proliferation of purpose-built SaaS applications that enhance team productivity and employee satisfaction. However, it quickly addresses the challenge that these applications, often from different vendors, are not designed to work together, leading to data silos and increased difficulty in managing corporate data and employee efficiency. start=0 end=21\n",
      "  chapter_number=1 chapter_title=Integration Challenges and Solutions chapter_summary=This section discusses the cumbersome nature of creating point-to-point integrations between SaaS applications, which are not only time-consuming and costly to develop but also to maintain. The narrative sets the stage for a solution to these pervasive issues. start=22 end=42\n",
      "  chapter_number=2 chapter_title=Introducing AWS App Fabric chapter_summary=AWS App Fabric is presented as a fully managed service designed to connect SaaS applications across an organization effortlessly, without the need for development. It promises easy management and security of applications by IT and security teams, and the use of generative AI to speed up everyday tasks for employees. start=43 end=60\n",
      "  chapter_number=3 chapter_title=Benefits of AWS App Fabric chapter_summary=The video elaborates on the advantages of using AWS App Fabric, such as eliminating the complexity of building and maintaining integrations, improving security posture, and providing better visibility across application data. It also highlights the ease of setting common policies, managing user access, and aggregating data into a common repository. start=61 end=82\n",
      "  chapter_number=4 chapter_title=Leveraging Generative AI with App Fabric chapter_summary=In the concluding section, the focus is on the innovative use of generative AI within App Fabric to create content or perform tasks across multiple applications, thereby connecting content to increase productivity and collaboration. The video ends with a call to action, encouraging viewers to connect their SaaS applications using App Fabric for enhanced productivity and security. start=83 end=100\n",
      "Highlights:\n",
      "  Highlight=Introduction of AWS App Fabric start=43 end=60\n",
      "  Highlight=Benefits of AWS App Fabric start=61 end=82\n",
      "  Highlight=Generative AI and Connectivity start=83 end=100\n",
      "  Highlight=Challenges of SaaS Application Integration start=1 end=42\n",
      "Open-ended Text: Based on the video, which expertly navigates through the multifaceted services offered by AWS (Amazon Web Services) and emphasizes the revolutionary impact of integrating SaaS (Software as a Service) applications with AWS solutions, the five keywords for SEO (Search Engine Optimization) would be \"AWS,\" \"Blockchain,\" \"Machine Learning,\" \"Artificial Intelligence,\" and \"Internet of Things (IoT).\" The video begins with an overview of the challenges faced by organizations in managing multiple SaaS applications and the data silos they create. It then introduces AWS App Fabric as a solution that streamlines application connectivity and data management, highlighting its benefits in enhancing productivity, security, and the use of generative AI across organizational operations. The selection of these keywords is influenced by the video’s focus on demonstrating AWS's capabilities in addressing these modern technological challenges and its pivotal role in advancing fields like blockchain, machine learning, artificial intelligence, and IoT through its comprehensive and interconnected suite of services.\n"
     ]
    }
   ],
   "source": [
    "videos = client.index.video.list(index.id)\n",
    "for video in videos:\n",
    "    print(f\"Generating text for {video.id}\")\n",
    "\n",
    "    res = client.generate.gist(video_id=video.id, types=[\"title\", \"topic\", \"hashtag\"])\n",
    "    print(f\"Title: {res.title}\\nTopics={res.topics}\\nHashtags={res.hashtags}\")\n",
    "\n",
    "    res = client.generate.summarize(video_id=video.id, type=\"summary\")\n",
    "    print(f\"Summary: {res.summary}\")\n",
    "\n",
    "    print(\"Chapters:\")\n",
    "    res = client.generate.summarize(video_id=video.id, type=\"chapter\")\n",
    "    for chapter in res.chapters:\n",
    "        print(\n",
    "            f\"  chapter_number={chapter.chapter_number} chapter_title={chapter.chapter_title} chapter_summary={chapter.chapter_summary} start={chapter.start} end={chapter.end}\"\n",
    "        )\n",
    "\n",
    "    print(\"Highlights:\")\n",
    "    res = client.generate.summarize(video_id=video.id, type=\"highlight\")\n",
    "    for highlight in res.highlights:\n",
    "        print(\n",
    "            f\"  Highlight={highlight.highlight} start={highlight.start} end={highlight.end}\"\n",
    "        )\n",
    "\n",
    "    res = client.generate.text(video_id=video.id, prompt=\"Based on this video, I want to generate five keywords for SEO (Search Engine Optimization).\")\n",
    "    print(f\"Open-ended Text: {res.data}\")"
   ]
  },
  {
   "cell_type": "code",
   "execution_count": 7,
   "metadata": {},
   "outputs": [],
   "source": [
    "res = client.generate.gist(video_id=video.id, types=[\"title\", \"topic\", \"hashtag\"])"
   ]
  },
  {
   "cell_type": "code",
   "execution_count": 10,
   "metadata": {},
   "outputs": [],
   "source": [
    "# video_name=video_summary.video_name,\n",
    "# title=video_summary.title,\n",
    "# topics=video_summary.topics,\n",
    "# hashtags=video_summary.hashtags,\n",
    "# summary=video_summary.summary,\n",
    "# chapters=video_summary.chapters,\n",
    "# highlights=video_summary.highlights,\n",
    "# keywords=video_summary.keywords\n",
    "\n",
    "# video_id=video_id,\n",
    "# video_name=video.filename,\n",
    "# title=res_gist.title,\n",
    "# topics=res_gist.topics,\n",
    "# hashtags=res_gist.hashtags,\n",
    "# summary=res_summary.summary,\n",
    "# chapters=res_chapters.chapters,\n",
    "# highlights=res_highlights.highlights,\n",
    "# keywords=res_keywords.data"
   ]
  },
  {
   "cell_type": "code",
   "execution_count": 11,
   "metadata": {},
   "outputs": [
    {
     "data": {
      "text/plain": [
       "'AWS App Fabric: Seamlessly Connecting and Streamlining SaaS Applications for Enhanced Productivity and Security'"
      ]
     },
     "execution_count": 11,
     "metadata": {},
     "output_type": "execute_result"
    }
   ],
   "source": [
    "res.title"
   ]
  },
  {
   "cell_type": "code",
   "execution_count": 12,
   "metadata": {},
   "outputs": [
    {
     "data": {
      "text/plain": [
       "[' AWS App Fabric - Connecting and Integrating SaaS Applications for Enhanced Productivity and Security.']"
      ]
     },
     "execution_count": 12,
     "metadata": {},
     "output_type": "execute_result"
    }
   ],
   "source": [
    "res.topics # list of one string"
   ]
  },
  {
   "cell_type": "code",
   "execution_count": 8,
   "metadata": {},
   "outputs": [
    {
     "data": {
      "text/plain": [
       "['AWS',\n",
       " 'cloud computing',\n",
       " 'SaaS',\n",
       " 'AppFabric',\n",
       " 'productivity',\n",
       " 'data management',\n",
       " 'generative AI']"
      ]
     },
     "execution_count": 8,
     "metadata": {},
     "output_type": "execute_result"
    }
   ],
   "source": [
    "res.hashtags # list of strings"
   ]
  },
  {
   "cell_type": "code",
   "execution_count": 13,
   "metadata": {},
   "outputs": [],
   "source": [
    "res = client.generate.summarize(video_id=video.id, type=\"summary\")"
   ]
  },
  {
   "cell_type": "code",
   "execution_count": 14,
   "metadata": {},
   "outputs": [
    {
     "data": {
      "text/plain": [
       "\"The video provides a comprehensive overview of AWS App Fabric, a fully managed service designed to streamline the integration and management of SaaS applications within an organization. It begins by highlighting the challenges businesses face with the proliferation of purpose-built SaaS applications, noting that the average organization now utilizes over 100 SaaS applications. These applications, while boosting employee productivity and job satisfaction, often operate in silos due to being from different vendors. This not only creates data management and security headaches but also hampers employee efficiency due to the constant need to switch between different applications to access content or complete tasks.\\nThe narrative then shifts to the traditional solution to this problem, which involves creating point-to-point integrations between each application. However, this approach is critiqued for being time-consuming, costly, and difficult to maintain. Here, AWS App Fabric is introduced as a game-changing solution that eliminates the need for such cumbersome integrations. As a fully managed service, App Fabric allows for quick and easy connection of SaaS applications across an organization without any development required. This not only simplifies IT and security teams' work by enabling them to manage and secure applications using a standard schema but also enhances employee productivity through the use of generative AI for completing everyday tasks.\\nFurther advantages of AWS App Fabric include its ability to improve an organization's security posture by offering better visibility across application data, aggregate and normalize data into a common repository, and manage user access and policies more effectively. Additionally, the service facilitates the use of generative AI to create content or perform tasks across multiple applications, thereby fostering increased productivity and collaboration.\\nThe video concludes by emphasizing the ease with which organizations can connect their SaaS applications using AWS App Fabric, leading to enhanced productivity and security. Through its visual and dialogic elements, the video effectively communicates the value proposition of AWS App Fabric, positioning it as a vital tool for modern businesses looking to optimize their SaaS application landscape. The AWS logo and the mention of its trademark status serve to reinforce the official endorsement and reliability of the information presented.\""
      ]
     },
     "execution_count": 14,
     "metadata": {},
     "output_type": "execute_result"
    }
   ],
   "source": [
    "res.summary # long string"
   ]
  },
  {
   "cell_type": "code",
   "execution_count": 15,
   "metadata": {},
   "outputs": [
    {
     "data": {
      "text/plain": [
       "2470"
      ]
     },
     "execution_count": 15,
     "metadata": {},
     "output_type": "execute_result"
    }
   ],
   "source": [
    "len(res.summary)"
   ]
  },
  {
   "cell_type": "code",
   "execution_count": 27,
   "metadata": {},
   "outputs": [],
   "source": [
    "res = client.generate.summarize(video_id=video.id, type=\"chapter\")"
   ]
  },
  {
   "cell_type": "code",
   "execution_count": 30,
   "metadata": {},
   "outputs": [],
   "source": [
    "import json"
   ]
  },
  {
   "cell_type": "code",
   "execution_count": 40,
   "metadata": {},
   "outputs": [],
   "source": [
    "    # video_summary = VideoSummary.query.filter_by(video_id=video_id).first_or_404()\n",
    "    # return render_template(\n",
    "    #     'summary.html',\n",
    "    #     video_name=video_summary.video_name,\n",
    "    #     title=video_summary.title,\n",
    "    #     topics=video_summary.topics,\n",
    "    #     hashtags=video_summary.hashtags,\n",
    "    #     summary=video_summary.summary,\n",
    "    #     chapters=video_summary.chapters,\n",
    "    #     highlights=video_summary.highlights,\n",
    "    #     keywords=video_summary.keywords\n",
    "    # )"
   ]
  },
  {
   "cell_type": "code",
   "execution_count": null,
   "metadata": {},
   "outputs": [],
   "source": [
    "def process_bind_param(self, value, dialect):\n",
    "    if value is not None:\n",
    "        return json.dumps(value, default=lambda o: o.__dict__)\n",
    "    return None"
   ]
  },
  {
   "cell_type": "code",
   "execution_count": 39,
   "metadata": {},
   "outputs": [
    {
     "data": {
      "text/plain": [
       "RootModelList[GenerateSummarizeChapterResult](root=[GenerateSummarizeChapterResult(chapter_number=0, start=0, end=102, chapter_title='Optimizing Productivity with AWS App Fabric', chapter_summary='The video introduces AWS App Fabric as a solution to the challenges of using multiple SaaS applications in an organization. It begins by highlighting the productivity benefits of purpose-built SaaS applications, noting that organizations typically use over 100 different SaaS applications, which can lead to data silos and integration challenges. AWS App Fabric is presented as a fully managed service that simplifies the connection of SaaS applications across an organization without the need for development, thereby enhancing IT and security management, and enabling employees to complete tasks more efficiently using generative AI. The service aims to eliminate the complexity of building and maintaining point-to-point integrations, improve security posture, and facilitate easier management of user access and policies across applications. The video concludes with a call to action, encouraging viewers to connect their SaaS applications with AWS App Fabric for better productivity and security.')])"
      ]
     },
     "execution_count": 39,
     "metadata": {},
     "output_type": "execute_result"
    }
   ],
   "source": [
    "res.chapters"
   ]
  },
  {
   "cell_type": "code",
   "execution_count": 35,
   "metadata": {},
   "outputs": [
    {
     "data": {
      "text/plain": [
       "{'root': [{'chapter_number': 0,\n",
       "   'start': 0,\n",
       "   'end': 102,\n",
       "   'chapter_title': 'Optimizing Productivity with AWS App Fabric',\n",
       "   'chapter_summary': 'The video introduces AWS App Fabric as a solution to the challenges of using multiple SaaS applications in an organization. It begins by highlighting the productivity benefits of purpose-built SaaS applications, noting that organizations typically use over 100 different SaaS applications, which can lead to data silos and integration challenges. AWS App Fabric is presented as a fully managed service that simplifies the connection of SaaS applications across an organization without the need for development, thereby enhancing IT and security management, and enabling employees to complete tasks more efficiently using generative AI. The service aims to eliminate the complexity of building and maintaining point-to-point integrations, improve security posture, and facilitate easier management of user access and policies across applications. The video concludes with a call to action, encouraging viewers to connect their SaaS applications with AWS App Fabric for better productivity and security.'}]}"
      ]
     },
     "execution_count": 35,
     "metadata": {},
     "output_type": "execute_result"
    }
   ],
   "source": [
    "json.loads(json.dumps(res.chapters, default=lambda o: o.__dict__))"
   ]
  },
  {
   "cell_type": "code",
   "execution_count": null,
   "metadata": {},
   "outputs": [],
   "source": [
    "def process_result_value(self, value, dialect):\n",
    "    if value is not None:\n",
    "        return json.loads(value)\n",
    "    return None"
   ]
  },
  {
   "cell_type": "code",
   "execution_count": 33,
   "metadata": {},
   "outputs": [
    {
     "data": {
      "text/plain": [
       "RootModelList[GenerateSummarizeChapterResult](root=[GenerateSummarizeChapterResult(chapter_number=0, start=0, end=102, chapter_title='Optimizing Productivity with AWS App Fabric', chapter_summary='The video introduces AWS App Fabric as a solution to the challenges of using multiple SaaS applications in an organization. It begins by highlighting the productivity benefits of purpose-built SaaS applications, noting that organizations typically use over 100 different SaaS applications, which can lead to data silos and integration challenges. AWS App Fabric is presented as a fully managed service that simplifies the connection of SaaS applications across an organization without the need for development, thereby enhancing IT and security management, and enabling employees to complete tasks more efficiently using generative AI. The service aims to eliminate the complexity of building and maintaining point-to-point integrations, improve security posture, and facilitate easier management of user access and policies across applications. The video concludes with a call to action, encouraging viewers to connect their SaaS applications with AWS App Fabric for better productivity and security.')])"
      ]
     },
     "execution_count": 33,
     "metadata": {},
     "output_type": "execute_result"
    }
   ],
   "source": [
    "res.chapters"
   ]
  },
  {
   "cell_type": "code",
   "execution_count": 31,
   "metadata": {},
   "outputs": [
    {
     "ename": "TypeError",
     "evalue": "Object of type RootModelList[GenerateSummarizeChapterResult] is not JSON serializable",
     "output_type": "error",
     "traceback": [
      "\u001b[0;31m---------------------------------------------------------------------------\u001b[0m",
      "\u001b[0;31mTypeError\u001b[0m                                 Traceback (most recent call last)",
      "Cell \u001b[0;32mIn[31], line 1\u001b[0m\n\u001b[0;32m----> 1\u001b[0m \u001b[43mjson\u001b[49m\u001b[38;5;241;43m.\u001b[39;49m\u001b[43mdumps\u001b[49m\u001b[43m(\u001b[49m\u001b[43mres\u001b[49m\u001b[38;5;241;43m.\u001b[39;49m\u001b[43mchapters\u001b[49m\u001b[43m)\u001b[49m\n",
      "File \u001b[0;32m/opt/anaconda3/envs/twelve_labs/lib/python3.12/json/__init__.py:231\u001b[0m, in \u001b[0;36mdumps\u001b[0;34m(obj, skipkeys, ensure_ascii, check_circular, allow_nan, cls, indent, separators, default, sort_keys, **kw)\u001b[0m\n\u001b[1;32m    226\u001b[0m \u001b[38;5;66;03m# cached encoder\u001b[39;00m\n\u001b[1;32m    227\u001b[0m \u001b[38;5;28;01mif\u001b[39;00m (\u001b[38;5;129;01mnot\u001b[39;00m skipkeys \u001b[38;5;129;01mand\u001b[39;00m ensure_ascii \u001b[38;5;129;01mand\u001b[39;00m\n\u001b[1;32m    228\u001b[0m     check_circular \u001b[38;5;129;01mand\u001b[39;00m allow_nan \u001b[38;5;129;01mand\u001b[39;00m\n\u001b[1;32m    229\u001b[0m     \u001b[38;5;28mcls\u001b[39m \u001b[38;5;129;01mis\u001b[39;00m \u001b[38;5;28;01mNone\u001b[39;00m \u001b[38;5;129;01mand\u001b[39;00m indent \u001b[38;5;129;01mis\u001b[39;00m \u001b[38;5;28;01mNone\u001b[39;00m \u001b[38;5;129;01mand\u001b[39;00m separators \u001b[38;5;129;01mis\u001b[39;00m \u001b[38;5;28;01mNone\u001b[39;00m \u001b[38;5;129;01mand\u001b[39;00m\n\u001b[1;32m    230\u001b[0m     default \u001b[38;5;129;01mis\u001b[39;00m \u001b[38;5;28;01mNone\u001b[39;00m \u001b[38;5;129;01mand\u001b[39;00m \u001b[38;5;129;01mnot\u001b[39;00m sort_keys \u001b[38;5;129;01mand\u001b[39;00m \u001b[38;5;129;01mnot\u001b[39;00m kw):\n\u001b[0;32m--> 231\u001b[0m     \u001b[38;5;28;01mreturn\u001b[39;00m \u001b[43m_default_encoder\u001b[49m\u001b[38;5;241;43m.\u001b[39;49m\u001b[43mencode\u001b[49m\u001b[43m(\u001b[49m\u001b[43mobj\u001b[49m\u001b[43m)\u001b[49m\n\u001b[1;32m    232\u001b[0m \u001b[38;5;28;01mif\u001b[39;00m \u001b[38;5;28mcls\u001b[39m \u001b[38;5;129;01mis\u001b[39;00m \u001b[38;5;28;01mNone\u001b[39;00m:\n\u001b[1;32m    233\u001b[0m     \u001b[38;5;28mcls\u001b[39m \u001b[38;5;241m=\u001b[39m JSONEncoder\n",
      "File \u001b[0;32m/opt/anaconda3/envs/twelve_labs/lib/python3.12/json/encoder.py:200\u001b[0m, in \u001b[0;36mJSONEncoder.encode\u001b[0;34m(self, o)\u001b[0m\n\u001b[1;32m    196\u001b[0m         \u001b[38;5;28;01mreturn\u001b[39;00m encode_basestring(o)\n\u001b[1;32m    197\u001b[0m \u001b[38;5;66;03m# This doesn't pass the iterator directly to ''.join() because the\u001b[39;00m\n\u001b[1;32m    198\u001b[0m \u001b[38;5;66;03m# exceptions aren't as detailed.  The list call should be roughly\u001b[39;00m\n\u001b[1;32m    199\u001b[0m \u001b[38;5;66;03m# equivalent to the PySequence_Fast that ''.join() would do.\u001b[39;00m\n\u001b[0;32m--> 200\u001b[0m chunks \u001b[38;5;241m=\u001b[39m \u001b[38;5;28;43mself\u001b[39;49m\u001b[38;5;241;43m.\u001b[39;49m\u001b[43miterencode\u001b[49m\u001b[43m(\u001b[49m\u001b[43mo\u001b[49m\u001b[43m,\u001b[49m\u001b[43m \u001b[49m\u001b[43m_one_shot\u001b[49m\u001b[38;5;241;43m=\u001b[39;49m\u001b[38;5;28;43;01mTrue\u001b[39;49;00m\u001b[43m)\u001b[49m\n\u001b[1;32m    201\u001b[0m \u001b[38;5;28;01mif\u001b[39;00m \u001b[38;5;129;01mnot\u001b[39;00m \u001b[38;5;28misinstance\u001b[39m(chunks, (\u001b[38;5;28mlist\u001b[39m, \u001b[38;5;28mtuple\u001b[39m)):\n\u001b[1;32m    202\u001b[0m     chunks \u001b[38;5;241m=\u001b[39m \u001b[38;5;28mlist\u001b[39m(chunks)\n",
      "File \u001b[0;32m/opt/anaconda3/envs/twelve_labs/lib/python3.12/json/encoder.py:258\u001b[0m, in \u001b[0;36mJSONEncoder.iterencode\u001b[0;34m(self, o, _one_shot)\u001b[0m\n\u001b[1;32m    253\u001b[0m \u001b[38;5;28;01melse\u001b[39;00m:\n\u001b[1;32m    254\u001b[0m     _iterencode \u001b[38;5;241m=\u001b[39m _make_iterencode(\n\u001b[1;32m    255\u001b[0m         markers, \u001b[38;5;28mself\u001b[39m\u001b[38;5;241m.\u001b[39mdefault, _encoder, \u001b[38;5;28mself\u001b[39m\u001b[38;5;241m.\u001b[39mindent, floatstr,\n\u001b[1;32m    256\u001b[0m         \u001b[38;5;28mself\u001b[39m\u001b[38;5;241m.\u001b[39mkey_separator, \u001b[38;5;28mself\u001b[39m\u001b[38;5;241m.\u001b[39mitem_separator, \u001b[38;5;28mself\u001b[39m\u001b[38;5;241m.\u001b[39msort_keys,\n\u001b[1;32m    257\u001b[0m         \u001b[38;5;28mself\u001b[39m\u001b[38;5;241m.\u001b[39mskipkeys, _one_shot)\n\u001b[0;32m--> 258\u001b[0m \u001b[38;5;28;01mreturn\u001b[39;00m \u001b[43m_iterencode\u001b[49m\u001b[43m(\u001b[49m\u001b[43mo\u001b[49m\u001b[43m,\u001b[49m\u001b[43m \u001b[49m\u001b[38;5;241;43m0\u001b[39;49m\u001b[43m)\u001b[49m\n",
      "File \u001b[0;32m/opt/anaconda3/envs/twelve_labs/lib/python3.12/json/encoder.py:180\u001b[0m, in \u001b[0;36mJSONEncoder.default\u001b[0;34m(self, o)\u001b[0m\n\u001b[1;32m    161\u001b[0m \u001b[38;5;28;01mdef\u001b[39;00m \u001b[38;5;21mdefault\u001b[39m(\u001b[38;5;28mself\u001b[39m, o):\n\u001b[1;32m    162\u001b[0m \u001b[38;5;250m    \u001b[39m\u001b[38;5;124;03m\"\"\"Implement this method in a subclass such that it returns\u001b[39;00m\n\u001b[1;32m    163\u001b[0m \u001b[38;5;124;03m    a serializable object for ``o``, or calls the base implementation\u001b[39;00m\n\u001b[1;32m    164\u001b[0m \u001b[38;5;124;03m    (to raise a ``TypeError``).\u001b[39;00m\n\u001b[0;32m   (...)\u001b[0m\n\u001b[1;32m    178\u001b[0m \n\u001b[1;32m    179\u001b[0m \u001b[38;5;124;03m    \"\"\"\u001b[39;00m\n\u001b[0;32m--> 180\u001b[0m     \u001b[38;5;28;01mraise\u001b[39;00m \u001b[38;5;167;01mTypeError\u001b[39;00m(\u001b[38;5;124mf\u001b[39m\u001b[38;5;124m'\u001b[39m\u001b[38;5;124mObject of type \u001b[39m\u001b[38;5;132;01m{\u001b[39;00mo\u001b[38;5;241m.\u001b[39m\u001b[38;5;18m__class__\u001b[39m\u001b[38;5;241m.\u001b[39m\u001b[38;5;18m__name__\u001b[39m\u001b[38;5;132;01m}\u001b[39;00m\u001b[38;5;124m \u001b[39m\u001b[38;5;124m'\u001b[39m\n\u001b[1;32m    181\u001b[0m                     \u001b[38;5;124mf\u001b[39m\u001b[38;5;124m'\u001b[39m\u001b[38;5;124mis not JSON serializable\u001b[39m\u001b[38;5;124m'\u001b[39m)\n",
      "\u001b[0;31mTypeError\u001b[0m: Object of type RootModelList[GenerateSummarizeChapterResult] is not JSON serializable"
     ]
    }
   ],
   "source": [
    "json.dumps(res.chapters)"
   ]
  },
  {
   "cell_type": "code",
   "execution_count": 21,
   "metadata": {},
   "outputs": [
    {
     "data": {
      "text/plain": [
       "GenerateSummarizeChapterResult(chapter_number=0, start=0, end=21, chapter_title='The Evolution of SaaS Applications', chapter_summary=\"The video begins by highlighting the increasing reliance on purpose-built SaaS applications to enhance team productivity and employee satisfaction. It notes the challenges posed by data silos created when applications from different vendors don't integrate seamlessly.\")"
      ]
     },
     "execution_count": 21,
     "metadata": {},
     "output_type": "execute_result"
    }
   ],
   "source": [
    "res.chapters[0]"
   ]
  },
  {
   "cell_type": "code",
   "execution_count": 22,
   "metadata": {},
   "outputs": [
    {
     "data": {
      "text/plain": [
       "GenerateSummarizeChapterResult(chapter_number=1, start=22, end=42, chapter_title='Challenges of Application Integration', chapter_summary='The narrative shifts to the difficulties organizations face with data silos and the cumbersome nature of employees having to switch between applications. It also touches on the traditional approach of creating point-to-point integrations and its associated costs and maintenance challenges.')"
      ]
     },
     "execution_count": 22,
     "metadata": {},
     "output_type": "execute_result"
    }
   ],
   "source": [
    "res.chapters[1]"
   ]
  },
  {
   "cell_type": "code",
   "execution_count": 23,
   "metadata": {},
   "outputs": [],
   "source": [
    "res = client.generate.summarize(video_id=video.id, type=\"highlight\")"
   ]
  },
  {
   "cell_type": "code",
   "execution_count": 24,
   "metadata": {},
   "outputs": [
    {
     "data": {
      "text/plain": [
       "RootModelList[GenerateSummarizeHighlightResult](root=[GenerateSummarizeHighlightResult(start=43, end=60, highlight='Introduction to AWS App Fabric'), GenerateSummarizeHighlightResult(start=61, end=82, highlight='Benefits of AWS App Fabric'), GenerateSummarizeHighlightResult(start=83, end=100, highlight='Enhancing Productivity with Generative AI'), GenerateSummarizeHighlightResult(start=1, end=42, highlight='Challenges of SaaS Applications')])"
      ]
     },
     "execution_count": 24,
     "metadata": {},
     "output_type": "execute_result"
    }
   ],
   "source": [
    "res.highlights"
   ]
  },
  {
   "cell_type": "code",
   "execution_count": 25,
   "metadata": {},
   "outputs": [],
   "source": [
    "res = client.generate.text(video_id=video.id, prompt=\"Based on this video, I want to generate five keywords for SEO (Search Engine Optimization).\")"
   ]
  },
  {
   "cell_type": "code",
   "execution_count": 26,
   "metadata": {},
   "outputs": [
    {
     "data": {
      "text/plain": [
       "\"Based on the comprehensive content of the video, which showcases the capabilities and services of AWS (Amazon Web Services), along with a detailed explanation of AWS App Fabric, the five most relevant keywords for SEO (Search Engine Optimization) would be: \\n\\n1. AWS App Fabric\\n2. SaaS Applications Integration\\n3. Generative AI\\n4. Data Security Management\\n5. Productivity Enhancement\\n\\nThese keywords encapsulate the core themes and technological solutions presented in the video, ranging from the integration of Software as a Service (SaaS) applications, leveraging generative AI for improving productivity, to managing and securing data across an organization's application ecosystem, all underpinned by AWS's infrastructure.\""
      ]
     },
     "execution_count": 26,
     "metadata": {},
     "output_type": "execute_result"
    }
   ],
   "source": [
    "res.data # one string"
   ]
  },
  {
   "cell_type": "code",
   "execution_count": null,
   "metadata": {},
   "outputs": [],
   "source": []
  },
  {
   "cell_type": "code",
   "execution_count": 64,
   "metadata": {},
   "outputs": [],
   "source": [
    "import os\n",
    "from sqlalchemy import create_engine, MetaData, Table, select\n",
    "from sqlalchemy.orm import sessionmaker\n",
    "from sqlalchemy.ext.declarative import declarative_base\n",
    "from sqlalchemy.types import TypeDecorator, TEXT\n",
    "import json\n",
    "\n",
    "import os\n",
    "from sqlalchemy import create_engine, MetaData, Table, Column, Integer, String, Text\n",
    "from sqlalchemy.orm import sessionmaker\n",
    "from sqlalchemy.ext.declarative import declarative_base\n",
    "from sqlalchemy.types import TypeDecorator\n",
    "import json"
   ]
  },
  {
   "cell_type": "code",
   "execution_count": 65,
   "metadata": {},
   "outputs": [],
   "source": [
    "# Define the database path (adjust this based on your actual database location)\n",
    "db_path = os.path.join(os.getcwd(), 'database.db')\n",
    "\n",
    "# Create SQLAlchemy engine\n",
    "engine = create_engine(f'sqlite:///{db_path}')\n",
    "\n",
    "# Create session factory\n",
    "Session = sessionmaker(bind=engine)\n",
    "\n",
    "# Create a session\n",
    "session = Session()"
   ]
  },
  {
   "cell_type": "code",
   "execution_count": 66,
   "metadata": {},
   "outputs": [],
   "source": [
    "class JSONType(TypeDecorator):\n",
    "    impl = Text\n",
    "\n",
    "    def process_bind_param(self, value, dialect):\n",
    "        if value is not None:\n",
    "            return json.dumps(value)\n",
    "        return None\n",
    "\n",
    "    def process_result_value(self, value, dialect):\n",
    "        if value is not None:\n",
    "            return json.loads(value)\n",
    "        return None"
   ]
  },
  {
   "cell_type": "code",
   "execution_count": 67,
   "metadata": {},
   "outputs": [
    {
     "name": "stderr",
     "output_type": "stream",
     "text": [
      "/var/folders/23/4mlgy2qn2kd5mqznttb2pg2r0000gn/T/ipykernel_77946/3706886160.py:2: MovedIn20Warning: The ``declarative_base()`` function is now available as sqlalchemy.orm.declarative_base(). (deprecated since: 2.0) (Background on SQLAlchemy 2.0 at: https://sqlalche.me/e/b8d9)\n",
      "  Base = declarative_base()\n"
     ]
    }
   ],
   "source": [
    "# Create a base class for declarative class definitions\n",
    "Base = declarative_base()\n",
    "\n",
    "# Define your model class\n",
    "class VideoSummary(Base):\n",
    "    __tablename__ = 'video_summary'\n",
    "    id = Column(Integer, primary_key=True)\n",
    "    video_id = Column(String(200), nullable=False)\n",
    "    video_name = Column(String(200), nullable=False)\n",
    "    title = Column(String(500), nullable=False)\n",
    "    topics = Column(JSONType, nullable=False)\n",
    "    hashtags = Column(JSONType, nullable=False)\n",
    "    summary = Column(Text, nullable=False)\n",
    "    chapters = Column(JSONType, nullable=False)\n",
    "    highlights = Column(JSONType, nullable=False)\n",
    "    keywords = Column(JSONType, nullable=False)\n",
    "\n",
    "# Reflect the tables\n",
    "Base.metadata.reflect(engine)"
   ]
  },
  {
   "cell_type": "code",
   "execution_count": 68,
   "metadata": {},
   "outputs": [
    {
     "ename": "OperationalError",
     "evalue": "(sqlite3.OperationalError) no such table: video_summary\n[SQL: SELECT video_summary.id AS video_summary_id, video_summary.video_id AS video_summary_video_id, video_summary.video_name AS video_summary_video_name, video_summary.title AS video_summary_title, video_summary.topics AS video_summary_topics, video_summary.hashtags AS video_summary_hashtags, video_summary.summary AS video_summary_summary, video_summary.chapters AS video_summary_chapters, video_summary.highlights AS video_summary_highlights, video_summary.keywords AS video_summary_keywords \nFROM video_summary]\n(Background on this error at: https://sqlalche.me/e/20/e3q8)",
     "output_type": "error",
     "traceback": [
      "\u001b[0;31m---------------------------------------------------------------------------\u001b[0m",
      "\u001b[0;31mOperationalError\u001b[0m                          Traceback (most recent call last)",
      "File \u001b[0;32m/opt/anaconda3/envs/twelve_labs/lib/python3.12/site-packages/sqlalchemy/engine/base.py:1967\u001b[0m, in \u001b[0;36mConnection._exec_single_context\u001b[0;34m(self, dialect, context, statement, parameters)\u001b[0m\n\u001b[1;32m   1966\u001b[0m     \u001b[38;5;28;01mif\u001b[39;00m \u001b[38;5;129;01mnot\u001b[39;00m evt_handled:\n\u001b[0;32m-> 1967\u001b[0m         \u001b[38;5;28;43mself\u001b[39;49m\u001b[38;5;241;43m.\u001b[39;49m\u001b[43mdialect\u001b[49m\u001b[38;5;241;43m.\u001b[39;49m\u001b[43mdo_execute\u001b[49m\u001b[43m(\u001b[49m\n\u001b[1;32m   1968\u001b[0m \u001b[43m            \u001b[49m\u001b[43mcursor\u001b[49m\u001b[43m,\u001b[49m\u001b[43m \u001b[49m\u001b[43mstr_statement\u001b[49m\u001b[43m,\u001b[49m\u001b[43m \u001b[49m\u001b[43meffective_parameters\u001b[49m\u001b[43m,\u001b[49m\u001b[43m \u001b[49m\u001b[43mcontext\u001b[49m\n\u001b[1;32m   1969\u001b[0m \u001b[43m        \u001b[49m\u001b[43m)\u001b[49m\n\u001b[1;32m   1971\u001b[0m \u001b[38;5;28;01mif\u001b[39;00m \u001b[38;5;28mself\u001b[39m\u001b[38;5;241m.\u001b[39m_has_events \u001b[38;5;129;01mor\u001b[39;00m \u001b[38;5;28mself\u001b[39m\u001b[38;5;241m.\u001b[39mengine\u001b[38;5;241m.\u001b[39m_has_events:\n",
      "File \u001b[0;32m/opt/anaconda3/envs/twelve_labs/lib/python3.12/site-packages/sqlalchemy/engine/default.py:924\u001b[0m, in \u001b[0;36mDefaultDialect.do_execute\u001b[0;34m(self, cursor, statement, parameters, context)\u001b[0m\n\u001b[1;32m    923\u001b[0m \u001b[38;5;28;01mdef\u001b[39;00m \u001b[38;5;21mdo_execute\u001b[39m(\u001b[38;5;28mself\u001b[39m, cursor, statement, parameters, context\u001b[38;5;241m=\u001b[39m\u001b[38;5;28;01mNone\u001b[39;00m):\n\u001b[0;32m--> 924\u001b[0m     \u001b[43mcursor\u001b[49m\u001b[38;5;241;43m.\u001b[39;49m\u001b[43mexecute\u001b[49m\u001b[43m(\u001b[49m\u001b[43mstatement\u001b[49m\u001b[43m,\u001b[49m\u001b[43m \u001b[49m\u001b[43mparameters\u001b[49m\u001b[43m)\u001b[49m\n",
      "\u001b[0;31mOperationalError\u001b[0m: no such table: video_summary",
      "\nThe above exception was the direct cause of the following exception:\n",
      "\u001b[0;31mOperationalError\u001b[0m                          Traceback (most recent call last)",
      "Cell \u001b[0;32mIn[68], line 2\u001b[0m\n\u001b[1;32m      1\u001b[0m \u001b[38;5;66;03m# Query all records from VideoSummary table\u001b[39;00m\n\u001b[0;32m----> 2\u001b[0m video_summaries \u001b[38;5;241m=\u001b[39m \u001b[43msession\u001b[49m\u001b[38;5;241;43m.\u001b[39;49m\u001b[43mquery\u001b[49m\u001b[43m(\u001b[49m\u001b[43mVideoSummary\u001b[49m\u001b[43m)\u001b[49m\u001b[38;5;241;43m.\u001b[39;49m\u001b[43mall\u001b[49m\u001b[43m(\u001b[49m\u001b[43m)\u001b[49m\n\u001b[1;32m      4\u001b[0m \u001b[38;5;66;03m# Print the first video summary for inspection\u001b[39;00m\n\u001b[1;32m      5\u001b[0m \u001b[38;5;28;01mif\u001b[39;00m video_summaries:\n",
      "File \u001b[0;32m/opt/anaconda3/envs/twelve_labs/lib/python3.12/site-packages/sqlalchemy/orm/query.py:2673\u001b[0m, in \u001b[0;36mQuery.all\u001b[0;34m(self)\u001b[0m\n\u001b[1;32m   2651\u001b[0m \u001b[38;5;28;01mdef\u001b[39;00m \u001b[38;5;21mall\u001b[39m(\u001b[38;5;28mself\u001b[39m) \u001b[38;5;241m-\u001b[39m\u001b[38;5;241m>\u001b[39m List[_T]:\n\u001b[1;32m   2652\u001b[0m \u001b[38;5;250m    \u001b[39m\u001b[38;5;124;03m\"\"\"Return the results represented by this :class:`_query.Query`\u001b[39;00m\n\u001b[1;32m   2653\u001b[0m \u001b[38;5;124;03m    as a list.\u001b[39;00m\n\u001b[1;32m   2654\u001b[0m \n\u001b[0;32m   (...)\u001b[0m\n\u001b[1;32m   2671\u001b[0m \u001b[38;5;124;03m        :meth:`_engine.Result.scalars` - v2 comparable method.\u001b[39;00m\n\u001b[1;32m   2672\u001b[0m \u001b[38;5;124;03m    \"\"\"\u001b[39;00m\n\u001b[0;32m-> 2673\u001b[0m     \u001b[38;5;28;01mreturn\u001b[39;00m \u001b[38;5;28;43mself\u001b[39;49m\u001b[38;5;241;43m.\u001b[39;49m\u001b[43m_iter\u001b[49m\u001b[43m(\u001b[49m\u001b[43m)\u001b[49m\u001b[38;5;241m.\u001b[39mall()\n",
      "File \u001b[0;32m/opt/anaconda3/envs/twelve_labs/lib/python3.12/site-packages/sqlalchemy/orm/query.py:2827\u001b[0m, in \u001b[0;36mQuery._iter\u001b[0;34m(self)\u001b[0m\n\u001b[1;32m   2824\u001b[0m params \u001b[38;5;241m=\u001b[39m \u001b[38;5;28mself\u001b[39m\u001b[38;5;241m.\u001b[39m_params\n\u001b[1;32m   2826\u001b[0m statement \u001b[38;5;241m=\u001b[39m \u001b[38;5;28mself\u001b[39m\u001b[38;5;241m.\u001b[39m_statement_20()\n\u001b[0;32m-> 2827\u001b[0m result: Union[ScalarResult[_T], Result[_T]] \u001b[38;5;241m=\u001b[39m \u001b[38;5;28;43mself\u001b[39;49m\u001b[38;5;241;43m.\u001b[39;49m\u001b[43msession\u001b[49m\u001b[38;5;241;43m.\u001b[39;49m\u001b[43mexecute\u001b[49m\u001b[43m(\u001b[49m\n\u001b[1;32m   2828\u001b[0m \u001b[43m    \u001b[49m\u001b[43mstatement\u001b[49m\u001b[43m,\u001b[49m\n\u001b[1;32m   2829\u001b[0m \u001b[43m    \u001b[49m\u001b[43mparams\u001b[49m\u001b[43m,\u001b[49m\n\u001b[1;32m   2830\u001b[0m \u001b[43m    \u001b[49m\u001b[43mexecution_options\u001b[49m\u001b[38;5;241;43m=\u001b[39;49m\u001b[43m{\u001b[49m\u001b[38;5;124;43m\"\u001b[39;49m\u001b[38;5;124;43m_sa_orm_load_options\u001b[39;49m\u001b[38;5;124;43m\"\u001b[39;49m\u001b[43m:\u001b[49m\u001b[43m \u001b[49m\u001b[38;5;28;43mself\u001b[39;49m\u001b[38;5;241;43m.\u001b[39;49m\u001b[43mload_options\u001b[49m\u001b[43m}\u001b[49m\u001b[43m,\u001b[49m\n\u001b[1;32m   2831\u001b[0m \u001b[43m\u001b[49m\u001b[43m)\u001b[49m\n\u001b[1;32m   2833\u001b[0m \u001b[38;5;66;03m# legacy: automatically set scalars, unique\u001b[39;00m\n\u001b[1;32m   2834\u001b[0m \u001b[38;5;28;01mif\u001b[39;00m result\u001b[38;5;241m.\u001b[39m_attributes\u001b[38;5;241m.\u001b[39mget(\u001b[38;5;124m\"\u001b[39m\u001b[38;5;124mis_single_entity\u001b[39m\u001b[38;5;124m\"\u001b[39m, \u001b[38;5;28;01mFalse\u001b[39;00m):\n",
      "File \u001b[0;32m/opt/anaconda3/envs/twelve_labs/lib/python3.12/site-packages/sqlalchemy/orm/session.py:2351\u001b[0m, in \u001b[0;36mSession.execute\u001b[0;34m(self, statement, params, execution_options, bind_arguments, _parent_execute_state, _add_event)\u001b[0m\n\u001b[1;32m   2290\u001b[0m \u001b[38;5;28;01mdef\u001b[39;00m \u001b[38;5;21mexecute\u001b[39m(\n\u001b[1;32m   2291\u001b[0m     \u001b[38;5;28mself\u001b[39m,\n\u001b[1;32m   2292\u001b[0m     statement: Executable,\n\u001b[0;32m   (...)\u001b[0m\n\u001b[1;32m   2298\u001b[0m     _add_event: Optional[Any] \u001b[38;5;241m=\u001b[39m \u001b[38;5;28;01mNone\u001b[39;00m,\n\u001b[1;32m   2299\u001b[0m ) \u001b[38;5;241m-\u001b[39m\u001b[38;5;241m>\u001b[39m Result[Any]:\n\u001b[1;32m   2300\u001b[0m \u001b[38;5;250m    \u001b[39m\u001b[38;5;124mr\u001b[39m\u001b[38;5;124;03m\"\"\"Execute a SQL expression construct.\u001b[39;00m\n\u001b[1;32m   2301\u001b[0m \n\u001b[1;32m   2302\u001b[0m \u001b[38;5;124;03m    Returns a :class:`_engine.Result` object representing\u001b[39;00m\n\u001b[0;32m   (...)\u001b[0m\n\u001b[1;32m   2349\u001b[0m \n\u001b[1;32m   2350\u001b[0m \u001b[38;5;124;03m    \"\"\"\u001b[39;00m\n\u001b[0;32m-> 2351\u001b[0m     \u001b[38;5;28;01mreturn\u001b[39;00m \u001b[38;5;28;43mself\u001b[39;49m\u001b[38;5;241;43m.\u001b[39;49m\u001b[43m_execute_internal\u001b[49m\u001b[43m(\u001b[49m\n\u001b[1;32m   2352\u001b[0m \u001b[43m        \u001b[49m\u001b[43mstatement\u001b[49m\u001b[43m,\u001b[49m\n\u001b[1;32m   2353\u001b[0m \u001b[43m        \u001b[49m\u001b[43mparams\u001b[49m\u001b[43m,\u001b[49m\n\u001b[1;32m   2354\u001b[0m \u001b[43m        \u001b[49m\u001b[43mexecution_options\u001b[49m\u001b[38;5;241;43m=\u001b[39;49m\u001b[43mexecution_options\u001b[49m\u001b[43m,\u001b[49m\n\u001b[1;32m   2355\u001b[0m \u001b[43m        \u001b[49m\u001b[43mbind_arguments\u001b[49m\u001b[38;5;241;43m=\u001b[39;49m\u001b[43mbind_arguments\u001b[49m\u001b[43m,\u001b[49m\n\u001b[1;32m   2356\u001b[0m \u001b[43m        \u001b[49m\u001b[43m_parent_execute_state\u001b[49m\u001b[38;5;241;43m=\u001b[39;49m\u001b[43m_parent_execute_state\u001b[49m\u001b[43m,\u001b[49m\n\u001b[1;32m   2357\u001b[0m \u001b[43m        \u001b[49m\u001b[43m_add_event\u001b[49m\u001b[38;5;241;43m=\u001b[39;49m\u001b[43m_add_event\u001b[49m\u001b[43m,\u001b[49m\n\u001b[1;32m   2358\u001b[0m \u001b[43m    \u001b[49m\u001b[43m)\u001b[49m\n",
      "File \u001b[0;32m/opt/anaconda3/envs/twelve_labs/lib/python3.12/site-packages/sqlalchemy/orm/session.py:2236\u001b[0m, in \u001b[0;36mSession._execute_internal\u001b[0;34m(self, statement, params, execution_options, bind_arguments, _parent_execute_state, _add_event, _scalar_result)\u001b[0m\n\u001b[1;32m   2231\u001b[0m     \u001b[38;5;28;01mreturn\u001b[39;00m conn\u001b[38;5;241m.\u001b[39mscalar(\n\u001b[1;32m   2232\u001b[0m         statement, params \u001b[38;5;129;01mor\u001b[39;00m {}, execution_options\u001b[38;5;241m=\u001b[39mexecution_options\n\u001b[1;32m   2233\u001b[0m     )\n\u001b[1;32m   2235\u001b[0m \u001b[38;5;28;01mif\u001b[39;00m compile_state_cls:\n\u001b[0;32m-> 2236\u001b[0m     result: Result[Any] \u001b[38;5;241m=\u001b[39m \u001b[43mcompile_state_cls\u001b[49m\u001b[38;5;241;43m.\u001b[39;49m\u001b[43morm_execute_statement\u001b[49m\u001b[43m(\u001b[49m\n\u001b[1;32m   2237\u001b[0m \u001b[43m        \u001b[49m\u001b[38;5;28;43mself\u001b[39;49m\u001b[43m,\u001b[49m\n\u001b[1;32m   2238\u001b[0m \u001b[43m        \u001b[49m\u001b[43mstatement\u001b[49m\u001b[43m,\u001b[49m\n\u001b[1;32m   2239\u001b[0m \u001b[43m        \u001b[49m\u001b[43mparams\u001b[49m\u001b[43m \u001b[49m\u001b[38;5;129;43;01mor\u001b[39;49;00m\u001b[43m \u001b[49m\u001b[43m{\u001b[49m\u001b[43m}\u001b[49m\u001b[43m,\u001b[49m\n\u001b[1;32m   2240\u001b[0m \u001b[43m        \u001b[49m\u001b[43mexecution_options\u001b[49m\u001b[43m,\u001b[49m\n\u001b[1;32m   2241\u001b[0m \u001b[43m        \u001b[49m\u001b[43mbind_arguments\u001b[49m\u001b[43m,\u001b[49m\n\u001b[1;32m   2242\u001b[0m \u001b[43m        \u001b[49m\u001b[43mconn\u001b[49m\u001b[43m,\u001b[49m\n\u001b[1;32m   2243\u001b[0m \u001b[43m    \u001b[49m\u001b[43m)\u001b[49m\n\u001b[1;32m   2244\u001b[0m \u001b[38;5;28;01melse\u001b[39;00m:\n\u001b[1;32m   2245\u001b[0m     result \u001b[38;5;241m=\u001b[39m conn\u001b[38;5;241m.\u001b[39mexecute(\n\u001b[1;32m   2246\u001b[0m         statement, params \u001b[38;5;129;01mor\u001b[39;00m {}, execution_options\u001b[38;5;241m=\u001b[39mexecution_options\n\u001b[1;32m   2247\u001b[0m     )\n",
      "File \u001b[0;32m/opt/anaconda3/envs/twelve_labs/lib/python3.12/site-packages/sqlalchemy/orm/context.py:293\u001b[0m, in \u001b[0;36mAbstractORMCompileState.orm_execute_statement\u001b[0;34m(cls, session, statement, params, execution_options, bind_arguments, conn)\u001b[0m\n\u001b[1;32m    283\u001b[0m \u001b[38;5;129m@classmethod\u001b[39m\n\u001b[1;32m    284\u001b[0m \u001b[38;5;28;01mdef\u001b[39;00m \u001b[38;5;21morm_execute_statement\u001b[39m(\n\u001b[1;32m    285\u001b[0m     \u001b[38;5;28mcls\u001b[39m,\n\u001b[0;32m   (...)\u001b[0m\n\u001b[1;32m    291\u001b[0m     conn,\n\u001b[1;32m    292\u001b[0m ) \u001b[38;5;241m-\u001b[39m\u001b[38;5;241m>\u001b[39m Result:\n\u001b[0;32m--> 293\u001b[0m     result \u001b[38;5;241m=\u001b[39m \u001b[43mconn\u001b[49m\u001b[38;5;241;43m.\u001b[39;49m\u001b[43mexecute\u001b[49m\u001b[43m(\u001b[49m\n\u001b[1;32m    294\u001b[0m \u001b[43m        \u001b[49m\u001b[43mstatement\u001b[49m\u001b[43m,\u001b[49m\u001b[43m \u001b[49m\u001b[43mparams\u001b[49m\u001b[43m \u001b[49m\u001b[38;5;129;43;01mor\u001b[39;49;00m\u001b[43m \u001b[49m\u001b[43m{\u001b[49m\u001b[43m}\u001b[49m\u001b[43m,\u001b[49m\u001b[43m \u001b[49m\u001b[43mexecution_options\u001b[49m\u001b[38;5;241;43m=\u001b[39;49m\u001b[43mexecution_options\u001b[49m\n\u001b[1;32m    295\u001b[0m \u001b[43m    \u001b[49m\u001b[43m)\u001b[49m\n\u001b[1;32m    296\u001b[0m     \u001b[38;5;28;01mreturn\u001b[39;00m \u001b[38;5;28mcls\u001b[39m\u001b[38;5;241m.\u001b[39morm_setup_cursor_result(\n\u001b[1;32m    297\u001b[0m         session,\n\u001b[1;32m    298\u001b[0m         statement,\n\u001b[0;32m   (...)\u001b[0m\n\u001b[1;32m    302\u001b[0m         result,\n\u001b[1;32m    303\u001b[0m     )\n",
      "File \u001b[0;32m/opt/anaconda3/envs/twelve_labs/lib/python3.12/site-packages/sqlalchemy/engine/base.py:1418\u001b[0m, in \u001b[0;36mConnection.execute\u001b[0;34m(self, statement, parameters, execution_options)\u001b[0m\n\u001b[1;32m   1416\u001b[0m     \u001b[38;5;28;01mraise\u001b[39;00m exc\u001b[38;5;241m.\u001b[39mObjectNotExecutableError(statement) \u001b[38;5;28;01mfrom\u001b[39;00m \u001b[38;5;21;01merr\u001b[39;00m\n\u001b[1;32m   1417\u001b[0m \u001b[38;5;28;01melse\u001b[39;00m:\n\u001b[0;32m-> 1418\u001b[0m     \u001b[38;5;28;01mreturn\u001b[39;00m \u001b[43mmeth\u001b[49m\u001b[43m(\u001b[49m\n\u001b[1;32m   1419\u001b[0m \u001b[43m        \u001b[49m\u001b[38;5;28;43mself\u001b[39;49m\u001b[43m,\u001b[49m\n\u001b[1;32m   1420\u001b[0m \u001b[43m        \u001b[49m\u001b[43mdistilled_parameters\u001b[49m\u001b[43m,\u001b[49m\n\u001b[1;32m   1421\u001b[0m \u001b[43m        \u001b[49m\u001b[43mexecution_options\u001b[49m\u001b[43m \u001b[49m\u001b[38;5;129;43;01mor\u001b[39;49;00m\u001b[43m \u001b[49m\u001b[43mNO_OPTIONS\u001b[49m\u001b[43m,\u001b[49m\n\u001b[1;32m   1422\u001b[0m \u001b[43m    \u001b[49m\u001b[43m)\u001b[49m\n",
      "File \u001b[0;32m/opt/anaconda3/envs/twelve_labs/lib/python3.12/site-packages/sqlalchemy/sql/elements.py:515\u001b[0m, in \u001b[0;36mClauseElement._execute_on_connection\u001b[0;34m(self, connection, distilled_params, execution_options)\u001b[0m\n\u001b[1;32m    513\u001b[0m     \u001b[38;5;28;01mif\u001b[39;00m TYPE_CHECKING:\n\u001b[1;32m    514\u001b[0m         \u001b[38;5;28;01massert\u001b[39;00m \u001b[38;5;28misinstance\u001b[39m(\u001b[38;5;28mself\u001b[39m, Executable)\n\u001b[0;32m--> 515\u001b[0m     \u001b[38;5;28;01mreturn\u001b[39;00m \u001b[43mconnection\u001b[49m\u001b[38;5;241;43m.\u001b[39;49m\u001b[43m_execute_clauseelement\u001b[49m\u001b[43m(\u001b[49m\n\u001b[1;32m    516\u001b[0m \u001b[43m        \u001b[49m\u001b[38;5;28;43mself\u001b[39;49m\u001b[43m,\u001b[49m\u001b[43m \u001b[49m\u001b[43mdistilled_params\u001b[49m\u001b[43m,\u001b[49m\u001b[43m \u001b[49m\u001b[43mexecution_options\u001b[49m\n\u001b[1;32m    517\u001b[0m \u001b[43m    \u001b[49m\u001b[43m)\u001b[49m\n\u001b[1;32m    518\u001b[0m \u001b[38;5;28;01melse\u001b[39;00m:\n\u001b[1;32m    519\u001b[0m     \u001b[38;5;28;01mraise\u001b[39;00m exc\u001b[38;5;241m.\u001b[39mObjectNotExecutableError(\u001b[38;5;28mself\u001b[39m)\n",
      "File \u001b[0;32m/opt/anaconda3/envs/twelve_labs/lib/python3.12/site-packages/sqlalchemy/engine/base.py:1640\u001b[0m, in \u001b[0;36mConnection._execute_clauseelement\u001b[0;34m(self, elem, distilled_parameters, execution_options)\u001b[0m\n\u001b[1;32m   1628\u001b[0m compiled_cache: Optional[CompiledCacheType] \u001b[38;5;241m=\u001b[39m execution_options\u001b[38;5;241m.\u001b[39mget(\n\u001b[1;32m   1629\u001b[0m     \u001b[38;5;124m\"\u001b[39m\u001b[38;5;124mcompiled_cache\u001b[39m\u001b[38;5;124m\"\u001b[39m, \u001b[38;5;28mself\u001b[39m\u001b[38;5;241m.\u001b[39mengine\u001b[38;5;241m.\u001b[39m_compiled_cache\n\u001b[1;32m   1630\u001b[0m )\n\u001b[1;32m   1632\u001b[0m compiled_sql, extracted_params, cache_hit \u001b[38;5;241m=\u001b[39m elem\u001b[38;5;241m.\u001b[39m_compile_w_cache(\n\u001b[1;32m   1633\u001b[0m     dialect\u001b[38;5;241m=\u001b[39mdialect,\n\u001b[1;32m   1634\u001b[0m     compiled_cache\u001b[38;5;241m=\u001b[39mcompiled_cache,\n\u001b[0;32m   (...)\u001b[0m\n\u001b[1;32m   1638\u001b[0m     linting\u001b[38;5;241m=\u001b[39m\u001b[38;5;28mself\u001b[39m\u001b[38;5;241m.\u001b[39mdialect\u001b[38;5;241m.\u001b[39mcompiler_linting \u001b[38;5;241m|\u001b[39m compiler\u001b[38;5;241m.\u001b[39mWARN_LINTING,\n\u001b[1;32m   1639\u001b[0m )\n\u001b[0;32m-> 1640\u001b[0m ret \u001b[38;5;241m=\u001b[39m \u001b[38;5;28;43mself\u001b[39;49m\u001b[38;5;241;43m.\u001b[39;49m\u001b[43m_execute_context\u001b[49m\u001b[43m(\u001b[49m\n\u001b[1;32m   1641\u001b[0m \u001b[43m    \u001b[49m\u001b[43mdialect\u001b[49m\u001b[43m,\u001b[49m\n\u001b[1;32m   1642\u001b[0m \u001b[43m    \u001b[49m\u001b[43mdialect\u001b[49m\u001b[38;5;241;43m.\u001b[39;49m\u001b[43mexecution_ctx_cls\u001b[49m\u001b[38;5;241;43m.\u001b[39;49m\u001b[43m_init_compiled\u001b[49m\u001b[43m,\u001b[49m\n\u001b[1;32m   1643\u001b[0m \u001b[43m    \u001b[49m\u001b[43mcompiled_sql\u001b[49m\u001b[43m,\u001b[49m\n\u001b[1;32m   1644\u001b[0m \u001b[43m    \u001b[49m\u001b[43mdistilled_parameters\u001b[49m\u001b[43m,\u001b[49m\n\u001b[1;32m   1645\u001b[0m \u001b[43m    \u001b[49m\u001b[43mexecution_options\u001b[49m\u001b[43m,\u001b[49m\n\u001b[1;32m   1646\u001b[0m \u001b[43m    \u001b[49m\u001b[43mcompiled_sql\u001b[49m\u001b[43m,\u001b[49m\n\u001b[1;32m   1647\u001b[0m \u001b[43m    \u001b[49m\u001b[43mdistilled_parameters\u001b[49m\u001b[43m,\u001b[49m\n\u001b[1;32m   1648\u001b[0m \u001b[43m    \u001b[49m\u001b[43melem\u001b[49m\u001b[43m,\u001b[49m\n\u001b[1;32m   1649\u001b[0m \u001b[43m    \u001b[49m\u001b[43mextracted_params\u001b[49m\u001b[43m,\u001b[49m\n\u001b[1;32m   1650\u001b[0m \u001b[43m    \u001b[49m\u001b[43mcache_hit\u001b[49m\u001b[38;5;241;43m=\u001b[39;49m\u001b[43mcache_hit\u001b[49m\u001b[43m,\u001b[49m\n\u001b[1;32m   1651\u001b[0m \u001b[43m\u001b[49m\u001b[43m)\u001b[49m\n\u001b[1;32m   1652\u001b[0m \u001b[38;5;28;01mif\u001b[39;00m has_events:\n\u001b[1;32m   1653\u001b[0m     \u001b[38;5;28mself\u001b[39m\u001b[38;5;241m.\u001b[39mdispatch\u001b[38;5;241m.\u001b[39mafter_execute(\n\u001b[1;32m   1654\u001b[0m         \u001b[38;5;28mself\u001b[39m,\n\u001b[1;32m   1655\u001b[0m         elem,\n\u001b[0;32m   (...)\u001b[0m\n\u001b[1;32m   1659\u001b[0m         ret,\n\u001b[1;32m   1660\u001b[0m     )\n",
      "File \u001b[0;32m/opt/anaconda3/envs/twelve_labs/lib/python3.12/site-packages/sqlalchemy/engine/base.py:1846\u001b[0m, in \u001b[0;36mConnection._execute_context\u001b[0;34m(self, dialect, constructor, statement, parameters, execution_options, *args, **kw)\u001b[0m\n\u001b[1;32m   1844\u001b[0m     \u001b[38;5;28;01mreturn\u001b[39;00m \u001b[38;5;28mself\u001b[39m\u001b[38;5;241m.\u001b[39m_exec_insertmany_context(dialect, context)\n\u001b[1;32m   1845\u001b[0m \u001b[38;5;28;01melse\u001b[39;00m:\n\u001b[0;32m-> 1846\u001b[0m     \u001b[38;5;28;01mreturn\u001b[39;00m \u001b[38;5;28;43mself\u001b[39;49m\u001b[38;5;241;43m.\u001b[39;49m\u001b[43m_exec_single_context\u001b[49m\u001b[43m(\u001b[49m\n\u001b[1;32m   1847\u001b[0m \u001b[43m        \u001b[49m\u001b[43mdialect\u001b[49m\u001b[43m,\u001b[49m\u001b[43m \u001b[49m\u001b[43mcontext\u001b[49m\u001b[43m,\u001b[49m\u001b[43m \u001b[49m\u001b[43mstatement\u001b[49m\u001b[43m,\u001b[49m\u001b[43m \u001b[49m\u001b[43mparameters\u001b[49m\n\u001b[1;32m   1848\u001b[0m \u001b[43m    \u001b[49m\u001b[43m)\u001b[49m\n",
      "File \u001b[0;32m/opt/anaconda3/envs/twelve_labs/lib/python3.12/site-packages/sqlalchemy/engine/base.py:1986\u001b[0m, in \u001b[0;36mConnection._exec_single_context\u001b[0;34m(self, dialect, context, statement, parameters)\u001b[0m\n\u001b[1;32m   1983\u001b[0m     result \u001b[38;5;241m=\u001b[39m context\u001b[38;5;241m.\u001b[39m_setup_result_proxy()\n\u001b[1;32m   1985\u001b[0m \u001b[38;5;28;01mexcept\u001b[39;00m \u001b[38;5;167;01mBaseException\u001b[39;00m \u001b[38;5;28;01mas\u001b[39;00m e:\n\u001b[0;32m-> 1986\u001b[0m     \u001b[38;5;28;43mself\u001b[39;49m\u001b[38;5;241;43m.\u001b[39;49m\u001b[43m_handle_dbapi_exception\u001b[49m\u001b[43m(\u001b[49m\n\u001b[1;32m   1987\u001b[0m \u001b[43m        \u001b[49m\u001b[43me\u001b[49m\u001b[43m,\u001b[49m\u001b[43m \u001b[49m\u001b[43mstr_statement\u001b[49m\u001b[43m,\u001b[49m\u001b[43m \u001b[49m\u001b[43meffective_parameters\u001b[49m\u001b[43m,\u001b[49m\u001b[43m \u001b[49m\u001b[43mcursor\u001b[49m\u001b[43m,\u001b[49m\u001b[43m \u001b[49m\u001b[43mcontext\u001b[49m\n\u001b[1;32m   1988\u001b[0m \u001b[43m    \u001b[49m\u001b[43m)\u001b[49m\n\u001b[1;32m   1990\u001b[0m \u001b[38;5;28;01mreturn\u001b[39;00m result\n",
      "File \u001b[0;32m/opt/anaconda3/envs/twelve_labs/lib/python3.12/site-packages/sqlalchemy/engine/base.py:2353\u001b[0m, in \u001b[0;36mConnection._handle_dbapi_exception\u001b[0;34m(self, e, statement, parameters, cursor, context, is_sub_exec)\u001b[0m\n\u001b[1;32m   2351\u001b[0m \u001b[38;5;28;01melif\u001b[39;00m should_wrap:\n\u001b[1;32m   2352\u001b[0m     \u001b[38;5;28;01massert\u001b[39;00m sqlalchemy_exception \u001b[38;5;129;01mis\u001b[39;00m \u001b[38;5;129;01mnot\u001b[39;00m \u001b[38;5;28;01mNone\u001b[39;00m\n\u001b[0;32m-> 2353\u001b[0m     \u001b[38;5;28;01mraise\u001b[39;00m sqlalchemy_exception\u001b[38;5;241m.\u001b[39mwith_traceback(exc_info[\u001b[38;5;241m2\u001b[39m]) \u001b[38;5;28;01mfrom\u001b[39;00m \u001b[38;5;21;01me\u001b[39;00m\n\u001b[1;32m   2354\u001b[0m \u001b[38;5;28;01melse\u001b[39;00m:\n\u001b[1;32m   2355\u001b[0m     \u001b[38;5;28;01massert\u001b[39;00m exc_info[\u001b[38;5;241m1\u001b[39m] \u001b[38;5;129;01mis\u001b[39;00m \u001b[38;5;129;01mnot\u001b[39;00m \u001b[38;5;28;01mNone\u001b[39;00m\n",
      "File \u001b[0;32m/opt/anaconda3/envs/twelve_labs/lib/python3.12/site-packages/sqlalchemy/engine/base.py:1967\u001b[0m, in \u001b[0;36mConnection._exec_single_context\u001b[0;34m(self, dialect, context, statement, parameters)\u001b[0m\n\u001b[1;32m   1965\u001b[0m                 \u001b[38;5;28;01mbreak\u001b[39;00m\n\u001b[1;32m   1966\u001b[0m     \u001b[38;5;28;01mif\u001b[39;00m \u001b[38;5;129;01mnot\u001b[39;00m evt_handled:\n\u001b[0;32m-> 1967\u001b[0m         \u001b[38;5;28;43mself\u001b[39;49m\u001b[38;5;241;43m.\u001b[39;49m\u001b[43mdialect\u001b[49m\u001b[38;5;241;43m.\u001b[39;49m\u001b[43mdo_execute\u001b[49m\u001b[43m(\u001b[49m\n\u001b[1;32m   1968\u001b[0m \u001b[43m            \u001b[49m\u001b[43mcursor\u001b[49m\u001b[43m,\u001b[49m\u001b[43m \u001b[49m\u001b[43mstr_statement\u001b[49m\u001b[43m,\u001b[49m\u001b[43m \u001b[49m\u001b[43meffective_parameters\u001b[49m\u001b[43m,\u001b[49m\u001b[43m \u001b[49m\u001b[43mcontext\u001b[49m\n\u001b[1;32m   1969\u001b[0m \u001b[43m        \u001b[49m\u001b[43m)\u001b[49m\n\u001b[1;32m   1971\u001b[0m \u001b[38;5;28;01mif\u001b[39;00m \u001b[38;5;28mself\u001b[39m\u001b[38;5;241m.\u001b[39m_has_events \u001b[38;5;129;01mor\u001b[39;00m \u001b[38;5;28mself\u001b[39m\u001b[38;5;241m.\u001b[39mengine\u001b[38;5;241m.\u001b[39m_has_events:\n\u001b[1;32m   1972\u001b[0m     \u001b[38;5;28mself\u001b[39m\u001b[38;5;241m.\u001b[39mdispatch\u001b[38;5;241m.\u001b[39mafter_cursor_execute(\n\u001b[1;32m   1973\u001b[0m         \u001b[38;5;28mself\u001b[39m,\n\u001b[1;32m   1974\u001b[0m         cursor,\n\u001b[0;32m   (...)\u001b[0m\n\u001b[1;32m   1978\u001b[0m         context\u001b[38;5;241m.\u001b[39mexecutemany,\n\u001b[1;32m   1979\u001b[0m     )\n",
      "File \u001b[0;32m/opt/anaconda3/envs/twelve_labs/lib/python3.12/site-packages/sqlalchemy/engine/default.py:924\u001b[0m, in \u001b[0;36mDefaultDialect.do_execute\u001b[0;34m(self, cursor, statement, parameters, context)\u001b[0m\n\u001b[1;32m    923\u001b[0m \u001b[38;5;28;01mdef\u001b[39;00m \u001b[38;5;21mdo_execute\u001b[39m(\u001b[38;5;28mself\u001b[39m, cursor, statement, parameters, context\u001b[38;5;241m=\u001b[39m\u001b[38;5;28;01mNone\u001b[39;00m):\n\u001b[0;32m--> 924\u001b[0m     \u001b[43mcursor\u001b[49m\u001b[38;5;241;43m.\u001b[39;49m\u001b[43mexecute\u001b[49m\u001b[43m(\u001b[49m\u001b[43mstatement\u001b[49m\u001b[43m,\u001b[49m\u001b[43m \u001b[49m\u001b[43mparameters\u001b[49m\u001b[43m)\u001b[49m\n",
      "\u001b[0;31mOperationalError\u001b[0m: (sqlite3.OperationalError) no such table: video_summary\n[SQL: SELECT video_summary.id AS video_summary_id, video_summary.video_id AS video_summary_video_id, video_summary.video_name AS video_summary_video_name, video_summary.title AS video_summary_title, video_summary.topics AS video_summary_topics, video_summary.hashtags AS video_summary_hashtags, video_summary.summary AS video_summary_summary, video_summary.chapters AS video_summary_chapters, video_summary.highlights AS video_summary_highlights, video_summary.keywords AS video_summary_keywords \nFROM video_summary]\n(Background on this error at: https://sqlalche.me/e/20/e3q8)"
     ]
    }
   ],
   "source": [
    "# Query all records from VideoSummary table\n",
    "video_summaries = session.query(VideoSummary).all()\n",
    "\n",
    "# Print the first video summary for inspection\n",
    "if video_summaries:\n",
    "    print(video_summaries[0].title, video_summaries[0].summary)\n",
    "else:\n",
    "    print(\"No video summaries found.\")"
   ]
  },
  {
   "cell_type": "code",
   "execution_count": 69,
   "metadata": {},
   "outputs": [
    {
     "data": {
      "text/plain": [
       "'/Users/jaredyu/Desktop/projects/twelve_labs/technical_assignment/twelve-labs-sample-proj/database.db'"
      ]
     },
     "execution_count": 69,
     "metadata": {},
     "output_type": "execute_result"
    }
   ],
   "source": [
    "db_path = os.path.join(os.getcwd(), 'database.db')\n",
    "db_path"
   ]
  },
  {
   "cell_type": "code",
   "execution_count": 71,
   "metadata": {},
   "outputs": [
    {
     "data": {
      "text/plain": [
       "291"
      ]
     },
     "execution_count": 71,
     "metadata": {},
     "output_type": "execute_result"
    }
   ],
   "source": [
    "len(\"\\\n",
    "                    Please explain this music video. Explain the intention of the artist and their lyrics. \\\n",
    "                    Give cultural context so that the listener can know what angle the artist is coming from. \\\n",
    "                    What can we learn from the artist's or artists' words?\")"
   ]
  },
  {
   "cell_type": "code",
   "execution_count": 58,
   "metadata": {},
   "outputs": [
    {
     "data": {
      "text/plain": [
       "{'root': [{'chapter_number': 0,\n",
       "   'start': 0,\n",
       "   'end': 21,\n",
       "   'chapter_title': 'The Impact of SaaS Applications',\n",
       "   'chapter_summary': \"The video begins by highlighting the benefits of purpose-built SaaS applications in enhancing team productivity and employee satisfaction. It notes the average organization's use of over 100 SaaS applications but points out the challenge of applications from different vendors not being built to work together, creating data silos.\"},\n",
       "  {'chapter_number': 1,\n",
       "   'start': 22,\n",
       "   'end': 42,\n",
       "   'chapter_title': 'Challenges of SaaS Integration',\n",
       "   'chapter_summary': 'The narrative shifts to the difficulties organizations face with data silos and the cumbersome nature of employees having to switch between applications. It discusses the attempts to solve this through point-to-point integrations, which are costly and time-consuming to develop and maintain.'},\n",
       "  {'chapter_number': 2,\n",
       "   'start': 43,\n",
       "   'end': 60,\n",
       "   'chapter_title': 'Introducing AWS App Fabric',\n",
       "   'chapter_summary': 'AWS App Fabric is introduced as a solution, a fully managed service that connects SaaS applications across an organization effortlessly, without the need for development. It simplifies management and security for IT teams and enhances employee productivity through generative AI.'},\n",
       "  {'chapter_number': 3,\n",
       "   'start': 61,\n",
       "   'end': 82,\n",
       "   'chapter_title': 'Benefits of AWS App Fabric',\n",
       "   'chapter_summary': 'The video explains how App Fabric eliminates the complexity of SaaS app integrations, improves security posture, and aggregates data into a common repository. This makes it easier to set policies, manage alerts, and handle user access across applications.'},\n",
       "  {'chapter_number': 4,\n",
       "   'start': 83,\n",
       "   'end': 100,\n",
       "   'chapter_title': 'Enhancing Productivity with Generative AI',\n",
       "   'chapter_summary': 'The final segment focuses on the additional benefits of using generative AI with App Fabric to create content and perform tasks across multiple applications, thereby connecting content to increase productivity and collaboration. The video concludes with a call to action to connect SaaS applications for better productivity and security.'},\n",
       "  {'chapter_number': 5,\n",
       "   'start': 100,\n",
       "   'end': 102,\n",
       "   'chapter_title': 'Conclusion',\n",
       "   'chapter_summary': 'The video wraps up with the AWS logo and a reminder that the Amazon Web Services logo is a registered trademark of Amazon.com, Inc. or its affiliates, reinforcing the video as an official representation of AWS branding and services.'}]}"
      ]
     },
     "execution_count": 58,
     "metadata": {},
     "output_type": "execute_result"
    }
   ],
   "source": [
    "video_summaries[0].chapters"
   ]
  },
  {
   "cell_type": "code",
   "execution_count": 59,
   "metadata": {},
   "outputs": [
    {
     "data": {
      "text/plain": [
       "{'root': [{'start': 43,\n",
       "   'end': 60,\n",
       "   'highlight': 'Introduction to AWS App Fabric'},\n",
       "  {'start': 61, 'end': 82, 'highlight': 'Benefits of AWS App Fabric'},\n",
       "  {'start': 83,\n",
       "   'end': 100,\n",
       "   'highlight': 'Enhancing Productivity with Generative AI'},\n",
       "  {'start': 1, 'end': 42, 'highlight': 'Challenges with SaaS Applications'}]}"
      ]
     },
     "execution_count": 59,
     "metadata": {},
     "output_type": "execute_result"
    }
   ],
   "source": [
    "video_summaries[0].highlights"
   ]
  },
  {
   "cell_type": "code",
   "execution_count": 63,
   "metadata": {},
   "outputs": [
    {
     "data": {
      "text/plain": [
       "1"
      ]
     },
     "execution_count": 63,
     "metadata": {},
     "output_type": "execute_result"
    }
   ],
   "source": [
    "video_summaries[0].id"
   ]
  },
  {
   "cell_type": "code",
   "execution_count": 60,
   "metadata": {},
   "outputs": [],
   "source": [
    "from filters import seconds_to_hhmmss"
   ]
  },
  {
   "cell_type": "code",
   "execution_count": 61,
   "metadata": {},
   "outputs": [
    {
     "data": {
      "text/plain": [
       "<function filters.seconds_to_hhmmss(seconds)>"
      ]
     },
     "execution_count": 61,
     "metadata": {},
     "output_type": "execute_result"
    }
   ],
   "source": [
    "\n",
    "seconds_to_hhmmss"
   ]
  }
 ],
 "metadata": {
  "kernelspec": {
   "display_name": "twelve_labs",
   "language": "python",
   "name": "python3"
  },
  "language_info": {
   "codemirror_mode": {
    "name": "ipython",
    "version": 3
   },
   "file_extension": ".py",
   "mimetype": "text/x-python",
   "name": "python",
   "nbconvert_exporter": "python",
   "pygments_lexer": "ipython3",
   "version": "3.12.3"
  }
 },
 "nbformat": 4,
 "nbformat_minor": 2
}
