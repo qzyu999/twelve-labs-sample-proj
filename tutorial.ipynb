{
 "cells": [
  {
   "cell_type": "code",
   "execution_count": 16,
   "metadata": {},
   "outputs": [],
   "source": [
    "import os\n",
    "from glob import glob\n",
    "from twelvelabs import TwelveLabs\n",
    "from twelvelabs.models.task import Task\n",
    "\n",
    "# The path to the directory containing the videos you wish to upload.\n",
    "VIDEO_PATH = \"./videos/*.mp4\" # Example: \"/videos/*.mp4\n",
    "API_KEY = os.environ['API_KEY']\n",
    "INDEX_NAME = \"test_index-2vyufvcygiucvfdtrxdytcfvygjbhujknjilnjiniu2\""
   ]
  },
  {
   "cell_type": "code",
   "execution_count": 17,
   "metadata": {},
   "outputs": [
    {
     "name": "stdout",
     "output_type": "stream",
     "text": [
      "Created index: id=666fc08a0090a8f99febc3ec name=test_index-2vyufvcygiucvfdtrxdytcfvygjbhujknjilnjiniu2 engines=root=[Engine(name='pegasus1', options=['visual', 'conversation'], addons=None)]\n"
     ]
    }
   ],
   "source": [
    "client = TwelveLabs(api_key=API_KEY)\n",
    "\n",
    "index = client.index.create(\n",
    "    name=INDEX_NAME,\n",
    "    engines=[\n",
    "        {\n",
    "            \"name\": \"pegasus1\",\n",
    "            \"options\": [\"visual\", \"conversation\"],\n",
    "        }\n",
    "    ]\n",
    ")\n",
    "print(f\"Created index: id={index.id} name={index.name} engines={index.engines}\")"
   ]
  },
  {
   "cell_type": "code",
   "execution_count": 8,
   "metadata": {},
   "outputs": [
    {
     "name": "stdout",
     "output_type": "stream",
     "text": [
      "Uploading ./videos/Fei_Fei_Li_AI_Summit_2024.mp4\n",
      "Created task: id=666fa3ca0090a8f99febc30c\n",
      "  Status=pending\n",
      "  Status=pending\n",
      "  Status=indexing\n",
      "  Status=indexing\n",
      "  Status=indexing\n",
      "  Status=indexing\n",
      "  Status=indexing\n",
      "  Status=indexing\n",
      "  Status=ready\n",
      "Uploaded ./videos/Fei_Fei_Li_AI_Summit_2024.mp4. The unique identifer of your video is 666fa3cbd22b3a3c97bf289a.\n"
     ]
    }
   ],
   "source": [
    "video_files = glob(VIDEO_PATH)\n",
    "for video_file in video_files:\n",
    "  print(f\"Uploading {video_file}\")\n",
    "  task = client.task.create(index_id=index.id, file=video_file, language=\"en\")\n",
    "  print(f\"Created task: id={task.id}\")\n",
    "\n",
    "  # (Optional) Monitor the video indexing process\n",
    "  # Utility function to print the status of a video indexing task\n",
    "  def on_task_update(task: Task):\n",
    "          print(f\"  Status={task.status}\")\n",
    "  task.wait_for_done(sleep_interval=50, callback=on_task_update)\n",
    "  if task.status != \"ready\":\n",
    "      raise RuntimeError(f\"Indexing failed with status {task.status}\")\n",
    "  print(f\"Uploaded {video_file}. The unique identifer of your video is {task.video_id}.\")"
   ]
  },
  {
   "cell_type": "code",
   "execution_count": 9,
   "metadata": {},
   "outputs": [
    {
     "name": "stdout",
     "output_type": "stream",
     "text": [
      "Generating text for 666fa3cbd22b3a3c97bf289a\n",
      "Title: From Darkness to Sight: A Journey of Spatial Intelligence and AI Evolution\n",
      "Topics=[' Spatial Intelligence and AI Advancements']\n",
      "Hashtags=['AI', 'spatial intelligence', 'robotics', 'computer vision', 'generative AI', 'neural networks', 'ambient intelligence']\n",
      "Summary: In an enlightening and forward-looking presentation, a speaker delves into the profound realm of spatial intelligence and its pivotal role in advancing artificial intelligence (AI) and robotics, potentially heralding a new era of human-computer interaction. The talk, given across various prestigious platforms including FAIR 2020, DATATALK, Data Summit 2021, and NeurIPS 2020, presents a comprehensive overview of the evolution of AI, from its nascent stages to the cutting-edge developments in generative AI and robotics.\n",
      "The speaker begins by tracing the origins of vision in the natural world, drawing a parallel to the inception of AI's ability to \"see\" and interpret the world around it. She highlights the importance of spatial intelligence, not just in perceiving the environment but in interacting with it in meaningful ways. Through the narrative of technological evolution, the speaker showcases how AI has progressed from simple object recognition to understanding complex environments and generating new, unseen images and videos based on textual descriptions.\n",
      "A significant focus is placed on the transformative impact of neural networks, GPUs, and vast datasets like ImageNet, which collectively propelled AI into the modern age, enabling machines to achieve and surpass human-like vision and understanding. The speaker shares insights into the development of algorithms capable of creating 3D models from photographs, generating plausible spaces for exploration, and even translating text into 3D room layouts. These advancements underscore the rapid pace at which AI and robotics are evolving, driven by the quest to imbue machines with a deeper understanding of the spatial dimensions of the world.\n",
      "Furthermore, the presentation explores the application of spatial intelligence in robotics, particularly in how robots can learn to navigate and interact within three-dimensional spaces autonomously. This includes using simulation environments for training, which opens up infinite possibilities for creating more intelligent and adaptable robotic systems. The speaker also touches on the concept of ambient intelligence, where AI can discreetly support healthcare professionals and patients by monitoring environments and assisting with tasks, thereby reducing the risk of errors and enhancing patient care.\n",
      "One of the most captivating discussions revolves around the pilot study of brain-controlled robotics, illustrating a future where individuals with severe paralysis can control robotic arms through brain signals alone, showcasing the potential of AI and robotics to significantly improve the quality of life for people with disabilities.\n",
      "The speaker's vision extends beyond the current capabilities of AI, advocating for a future where machines equipped with spatial intelligence can act as trusted partners, augmenting human productivity and creativity. She emphasizes the ethical development of technology, with a human-centric approach that respects individual dignity while enhancing collective well-being.\n",
      "In conclusion, the presentation not only celebrates the milestones achieved in AI and robotics but also challenges the audience to envision a future where these technologies, powered by spatial intelligence, work in harmony with humans to explore, understand, and interact with the world in unprecedented ways. The speaker's message is one of hope and ambition, urging a collaborative effort to realize the full potential of AI as a force for good in society.\n",
      "Chapters:\n",
      "  chapter_number=0 chapter_title=The Dawn of Vision chapter_summary=The speaker begins by thanking the host and expressing excitement about being at the FAIR 2020 conference. She introduces the concept of moving from seeing to doing, illustrating the evolution of vision from the darkness of the pre-Cambrian oceans to the development of eyes and sight in trilobites. This journey highlights the emergence of intelligence through the ability to see, leading to actions and further evolution. start=0 end=180\n",
      "  chapter_number=1 chapter_title=The Age of Modern AI chapter_summary=Transitioning to the DATATALK segment, the speaker discusses the quest to create machines that can see, fueled by advancements in neural networks, GPUs, and big data. She reflects on the progress made since her TED talk nine years ago, emphasizing the rapid improvements in computer vision and the ushering in of the modern AI era through projects like ImageNet. start=180 end=360\n",
      "  chapter_number=2 chapter_title=Generative AI and Spatial Intelligence chapter_summary=The speaker explores the advancements in generative AI, highlighting the development of models that can create new images and videos from textual descriptions. She discusses the potential of spatial intelligence in AI, using examples of generative models like WALT and the importance of learning from mistakes to advance AI capabilities. start=360 end=540\n",
      "  chapter_number=3 chapter_title=Spatial Intelligence in AI chapter_summary=At the NeurIPS 2020 conference, the focus shifts to spatial intelligence in AI, detailing the progress in teaching computers to understand and interact with the 3D world. The speaker discusses the evolution of spatial intelligence from vision in animals to its potential in digital minds, emphasizing the importance of 3D understanding for AI's future. start=540 end=720\n",
      "  chapter_number=4 chapter_title=Robotics, Automation, and Healthcare chapter_summary=The speaker discusses the integration of robotics and AI in healthcare, showcasing how ambient intelligence technologies can improve patient care and reduce medical staff burnout. She presents examples of robotic language intelligence and the potential for robots to perform tasks based on verbal instructions, enhancing efficiency and safety in medical environments. start=720 end=900\n",
      "  chapter_number=5 chapter_title=Ambient Intelligence and Future Visions chapter_summary=The presentation delves into the concept of ambient intelligence, emphasizing its role in healthcare and beyond. The speaker imagines a future where AI and robotics enhance human capabilities, from aiding in medical procedures to enabling people with paralysis to control devices with their thoughts. She highlights the importance of interactive and supportive technologies in improving lives. start=900 end=1080\n",
      "  chapter_number=6 chapter_title=Concluding Thoughts on AI's Future chapter_summary=In the final moments, the speaker reflects on the potential of AI to transform the world, emphasizing the importance of developing spatially intelligent systems that can reason, interact, and co-create with humans. She calls for a collaborative effort to ensure that AI technologies enhance humanity, respect individual dignity, and contribute positively to society. start=1080 end=1106\n",
      "Highlights:\n",
      "  Highlight=The Future of AI in Healthcare and Robotics start=918 end=1080\n",
      "  Highlight=Advancements in Robotics and Automation start=720 end=900\n",
      "  Highlight=Generative AI and Spatial Intelligence start=360 end=540\n",
      "  Highlight=The Evolution of Modern AI start=180 end=360\n",
      "  Highlight=The Dawn of Vision and Intelligence start=0 end=180\n",
      "Open-ended Text: The video presentation, rich in content and thematic diversity, offers a comprehensive exploration of the forefront in artificial intelligence, machine learning, and their applications in various fields. Based on the depth and breadth of topics covered throughout the presentation, the following five keywords have been identified for SEO optimization:\n",
      "\n",
      "1. **Artificial Intelligence**: This keyword is central to the video, as the speaker delves into the evolution, current capabilities, and future potential of AI technologies. From the early stages of computer vision to the sophisticated spatial intelligence and generative models discussed, AI's transformative impact is a recurring theme.\n",
      "\n",
      "2. **Spatial Intelligence**: Highlighted throughout the presentation, spatial intelligence emerges as a critical aspect of AI's advancement. The speaker discusses its role in enabling machines to perceive, interact with, and navigate the 3D world, illustrating its importance with examples from healthcare, robotics, and augmented reality.\n",
      "\n",
      "3. **Neural Networks**: As a foundational technology driving AI and machine learning advancements, neural networks are discussed extensively. The speaker touches on their development, the breakthroughs they have enabled in computer vision and deep learning, and their role in the ongoing evolution of AI.\n",
      "\n",
      "4. **Computer Vision**: A significant portion of the video is dedicated to exploring the advances in computer vision, from its early days to its current state where it enables machines to understand and interpret visual information from the world around them. This includes discussions on image and video recognition, as well as generative models that create new, synthetic images and videos.\n",
      "\n",
      "5. **Generative AI**: Emerging as a fascinating new frontier in the video, generative AI is discussed in the context of creating content that mimics human creativity. The speaker provides examples of generative models that produce images, videos, and even 3D models based on textual descriptions, showcasing the potential for creative and practical applications.\n",
      "\n",
      "These keywords are reflective of the video's coverage of cutting-edge developments in AI and its implications for the future, making them ideal for SEO optimization to attract a targeted audience interested in the latest in technology and innovation.\n"
     ]
    }
   ],
   "source": [
    "videos = client.index.video.list(index.id)\n",
    "for video in videos:\n",
    "    print(f\"Generating text for {video.id}\")\n",
    "\n",
    "    res = client.generate.gist(video_id=video.id, types=[\"title\", \"topic\", \"hashtag\"])\n",
    "    print(f\"Title: {res.title}\\nTopics={res.topics}\\nHashtags={res.hashtags}\")\n",
    "\n",
    "    res = client.generate.summarize(video_id=video.id, type=\"summary\")\n",
    "    print(f\"Summary: {res.summary}\")\n",
    "\n",
    "    print(\"Chapters:\")\n",
    "    res = client.generate.summarize(video_id=video.id, type=\"chapter\")\n",
    "    for chapter in res.chapters:\n",
    "        print(\n",
    "            f\"  chapter_number={chapter.chapter_number} chapter_title={chapter.chapter_title} chapter_summary={chapter.chapter_summary} start={chapter.start} end={chapter.end}\"\n",
    "        )\n",
    "\n",
    "    print(\"Highlights:\")\n",
    "    res = client.generate.summarize(video_id=video.id, type=\"highlight\")\n",
    "    for highlight in res.highlights:\n",
    "        print(\n",
    "            f\"  Highlight={highlight.highlight} start={highlight.start} end={highlight.end}\"\n",
    "        )\n",
    "\n",
    "    res = client.generate.text(video_id=video.id, prompt=\"Based on this video, I want to generate five keywords for SEO (Search Engine Optimization).\")\n",
    "    print(f\"Open-ended Text: {res.data}\")"
   ]
  }
 ],
 "metadata": {
  "kernelspec": {
   "display_name": "twelve_labs",
   "language": "python",
   "name": "python3"
  },
  "language_info": {
   "codemirror_mode": {
    "name": "ipython",
    "version": 3
   },
   "file_extension": ".py",
   "mimetype": "text/x-python",
   "name": "python",
   "nbconvert_exporter": "python",
   "pygments_lexer": "ipython3",
   "version": "3.12.3"
  }
 },
 "nbformat": 4,
 "nbformat_minor": 2
}
